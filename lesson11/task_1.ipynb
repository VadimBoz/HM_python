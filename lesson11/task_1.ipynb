{
 "cells": [
  {
   "cell_type": "code",
   "execution_count": 47,
   "metadata": {},
   "outputs": [
    {
     "data": {
      "image/png": "[encoded data removed]",
      "text/plain": [
       "<Figure size 640x480 with 1 Axes>"
      ]
     },
     "metadata": {},
     "output_type": "display_data"
    }
   ],
   "source": [
    "from sympy import *\n",
    "from sympy.plotting import plot\n",
    "from sympy import *\n",
    "x=Symbol('x')\n",
    "f=-18 * x ** 3 + 5 * x ** 2 + 10 * x - 30\n",
    "# f= 2 * x ** 3 + 2 * x ** 2 - 18 * x - 18\n",
    "# f=(x ** 2 + 3) / (3 * (x + 1))\n",
    "p=plot(f,title=f'График функции {f}', axis_center=(0,0),ylim=(-40,10), )\n",
    "# xlim=(-30,30)\n",
    "#  (x, -10, 10), (y, -10, 10)\n",
    "# p.save('plot.png')\n",
    "\n"
   ]
  },
  {
   "cell_type": "markdown",
   "metadata": {},
   "source": [
    "### **1. Определение корней функции**"
   ]
  },
  {
   "cell_type": "code",
   "execution_count": 48,
   "metadata": {},
   "outputs": [
    {
     "name": "stdout",
     "output_type": "stream",
     "text": [
      "-1.24457983246689\n"
     ]
    }
   ],
   "source": [
    "u=solveset(f,x, Reals)\n",
    "if len(u)==0:\n",
    "  print(\"Действительных корней нет\")\n",
    "else:\n",
    "  for i in u:\n",
    "    print(i.evalf(), end=\"\\n\")\n"
   ]
  },
  {
   "cell_type": "markdown",
   "metadata": {},
   "source": [
    "### **2. Интервалы возрастания и убывания функции**"
   ]
  },
  {
   "cell_type": "code",
   "execution_count": 52,
   "metadata": {},
   "outputs": [
    {
     "name": "stdout",
     "output_type": "stream",
     "text": [
      "первая произодная функции -18*x**3 + 5*x**2 + 10*x - 30: -54*x**2 + 10*x + 10\n",
      "корни производной: {5/54 - sqrt(565)/54, 5/54 + sqrt(565)/54}\n",
      "интервалы призводной: [-oo, 5/54 - sqrt(565)/54, 5/54 + sqrt(565)/54, oo]\n",
      "\n",
      "Интервалы возрастания и убывания функции -18*x**3 + 5*x**2 + 10*x - 30:\n",
      "Убывает на интервалах:\n",
      "[-oo, -0.35]\n",
      "[0.53, oo]\n",
      "Возрастает на интервалах:\n",
      "[-0.35, 0.53]\n"
     ]
    }
   ],
   "source": [
    "\n",
    "d1=diff(f)\n",
    "print(f\"первая произодная функции {f}:\", d1)\n",
    "d1_root = solveset(d1,x)\n",
    "print(\"корни производной:\", d1_root)\n",
    "interval_d1_root=[-oo,*solveset(d1,x),oo]\n",
    "print(\"интервалы призводной:\", interval_d1_root)\n",
    "\n",
    "incr_list = []\n",
    "decr_list = []\n",
    "\n",
    "for i in range(1, len(interval_d1_root)):\n",
    "    val = is_increasing(f, Interval.open(interval_d1_root[i - 1], interval_d1_root[i]))\n",
    "    if val:\n",
    "        incr_list.append(f\"[{interval_d1_root[i - 1].evalf(2)}, {interval_d1_root[i].evalf(2)}]\")\n",
    "    else:\n",
    "        decr_list.append(f\"[{interval_d1_root[i - 1].evalf(2)}, {interval_d1_root[i].evalf(2)}]\")\n",
    "\n",
    "print(f\"\\nИнтервалы возрастания и убывания функции {f}:\")\n",
    "print(f\"Убывает на интервалах:\", *decr_list, sep=\"\\n\")\n",
    "print(f\"Возрастает на интервалах:\", *incr_list, sep=\"\\n\")\n"
   ]
  },
  {
   "cell_type": "markdown",
   "metadata": {},
   "source": [
    "### **3. Экстремумы функции**"
   ]
  },
  {
   "cell_type": "code",
   "execution_count": 56,
   "metadata": {},
   "outputs": [
    {
     "name": "stdout",
     "output_type": "stream",
     "text": [
      "первая произодная функции -18*x**3 + 5*x**2 + 10*x - 30: -54*x**2 + 10*x + 10\n",
      "корни производной: [5/54 - sqrt(565)/54, 5/54 + sqrt(565)/54]\n",
      "интервалы призводной: [-oo, 5/54 - sqrt(565)/54, 5/54 + sqrt(565)/54, oo]\n",
      "\n",
      "Экстремумы функции -18*x**3 + 5*x**2 + 10*x - 30:\n",
      "Локальные максимумы:\n",
      "[0.53, -26]\n",
      "Локальные минимумы:\n",
      "[-0.35,  -32]\n",
      "Точки перегиба:\n"
     ]
    }
   ],
   "source": [
    "\n",
    "d1=diff(f)\n",
    "print(f\"первая произодная функции {f}:\", d1)\n",
    "d1_root = sorted(solveset(d1,x, Reals))\n",
    "print(\"корни производной:\", d1_root)\n",
    "interval_d1_root=[-oo,*d1_root,oo]\n",
    "print(\"интервалы призводной:\", interval_d1_root)\n",
    "\n",
    "\n",
    "max_list = []\n",
    "min_list = []\n",
    "middle_list = []\n",
    "if len(interval_d1_root)>2:\n",
    "    for i in range(1, len(interval_d1_root)-1):\n",
    "        val_1 = is_increasing(f, Interval.open(interval_d1_root[i - 1], interval_d1_root[i]))\n",
    "        val_2 = is_increasing(f, Interval.open(interval_d1_root[i], interval_d1_root[i+1]))\n",
    "\n",
    "        if val_1 ==True and val_2 ==False:\n",
    "            max_list.append(f\"[{interval_d1_root[i].evalf(2)}, {f.subs(x, interval_d1_root[i]).evalf(2)}]\")\n",
    "        elif  val_1 ==False and val_2 ==True:\n",
    "             min_list.append(f\"[{interval_d1_root[i].evalf(2)},  {f.subs(x, interval_d1_root[i]).evalf(2)}]\")\n",
    "        else:\n",
    "           middle_list.append(f\"[{interval_d1_root[i]}]\")\n",
    "    print(f\"\\nЭкстремумы функции {f}:\")\n",
    "    print(f\"Локальные максимумы:\", *max_list, sep=\"\\n\")\n",
    "    print(f\"Локальные минимумы:\", *min_list, sep=\"\\n\")\n",
    "    print(f\"Точки перегиба:\", *middle_list, sep=\"\\n\")\n",
    "else:\n",
    "    print(\"функция не имеет экстремумов\")\n"
   ]
  },
  {
   "cell_type": "markdown",
   "metadata": {},
   "source": [
    "### **4.  Интервалы знакопостоянства функции**"
   ]
  },
  {
   "cell_type": "code",
   "execution_count": 67,
   "metadata": {},
   "outputs": [
    {
     "name": "stdout",
     "output_type": "stream",
     "text": [
      "корни функции -18*x**3 + 5*x**2 + 10*x - 30:\n",
      "-1.24\n",
      "Точек разрыва нет\n",
      "интервалы функции  [-oo, -(5*sqrt(218931)/108 + 127045/5832)**(1/3)/3 - 565/(972*(5*sqrt(218931)/108 + 127045/5832)**(1/3)) + 5/54, oo]\n",
      "f > 0:\n",
      "[-oo, -1.24]\n",
      "\n",
      "f < 0:\n",
      "[-1.24, oo]\n"
     ]
    }
   ],
   "source": [
    "interval_roots = [-oo, oo]\n",
    "f_roots_ = (solveset(f, x, Reals))\n",
    "f_roots = []\n",
    "[f_roots.append(i) for i in f_roots_]\n",
    "\n",
    "\n",
    "\n",
    "if len(f_roots) == 0:\n",
    "  print(\"Действительных корней нет\")\n",
    "  f_roots = []\n",
    "else:\n",
    "  print(f\"корни функции {f}:\")\n",
    "  for i in u:\n",
    "    print(i.evalf(3), end=\"\\n\")  \n",
    "\n",
    "\n",
    "# Точки разрыва:\n",
    "f_str=str(f)\n",
    "fraction_pos  = f_str.find(\"/\")\n",
    "if fraction_pos ==  -1:\n",
    "    print(\"Точек разрыва нет\")\n",
    "    f_break_points = []\n",
    "else:\n",
    "    f_str = f_str[fraction_pos+1:]\n",
    "    print(f\"знаменатель функции {f}-  \",  f_str)\n",
    "    f_fraction  = sympify(f_str)\n",
    "    print(f_fraction.subs(x, x))\n",
    "    r = solve(f_fraction)\n",
    "    if len(r) == 0:\n",
    "        print(\"Точек разрыва нет\")\n",
    "        f_break_points = []\n",
    "    else:\n",
    "        print('точки разрыва функции', r)\n",
    "        f_break_points = [i for i in r]\n",
    "\n",
    "\n",
    "interval_roots[1:1] = sorted(f_roots + f_break_points)\n",
    "print(\"интервалы функции \", interval_roots)\n",
    "\n",
    "pozitive_list = []\n",
    "negative_list = []\n",
    "\n",
    "for i in range(1, len(interval_roots)):\n",
    "    num_1, num_2 = interval_roots[i - 1], interval_roots[i]\n",
    "   \n",
    "    num_1 =  interval_roots[1]-10 if i == 1 else num_1\n",
    "    num_2 = interval_roots[-2]+10 if i == len(interval_roots)-1 else num_2\n",
    "\n",
    "    val = f.subs(x,num_2-(num_2-num_1)/2)\n",
    "\n",
    "    num_1 = interval_roots[0] if num_1<interval_roots[1] else num_1\n",
    "    num_2 = interval_roots[-1] if num_2>interval_roots[-2] else num_2\n",
    "    \n",
    "    if val<0:\n",
    "        in_i = \"(\" if num_1 in f_break_points  else \"[\"\n",
    "        out_i =  \")\" if num_2 in f_break_points  else \"]\"\n",
    "        negative_list.append(f\"{in_i}{num_1.evalf(3)}, {num_2.evalf(3)}{out_i}\") \n",
    "    else:\n",
    "        in_i = \"(\" if num_1 in f_break_points  else \"[\"\n",
    "        out_i =  \")\" if num_2 in f_break_points  else \"]\"\n",
    "        pozitive_list.append(f\"{in_i}{num_1.evalf(3)}, {num_2.evalf(3)}{out_i}\") \n",
    "\n",
    "print(\"f > 0:\", *pozitive_list, sep=\"\\n\")\n",
    "print(\"\\nf < 0:\", *negative_list, sep=\"\\n\")"
   ]
  }
 ],
 "metadata": {
  "kernelspec": {
   "display_name": "Python 3.9.13 ('base')",
   "language": "python",
   "name": "python3"
  },
  "language_info": {
   "codemirror_mode": {
    "name": "ipython",
    "version": 3
   },
   "file_extension": ".py",
   "mimetype": "text/x-python",
   "name": "python",
   "nbconvert_exporter": "python",
   "pygments_lexer": "ipython3",
   "version": "3.9.13"
  },
  "orig_nbformat": 4,
  "vscode": {
   "interpreter": {
    "hash": "ad2bdc8ecc057115af97d19610ffacc2b4e99fae6737bb82f5d7fb13d2f2c186"
   }
  }
 },
 "nbformat": 4,
 "nbformat_minor": 2
}
